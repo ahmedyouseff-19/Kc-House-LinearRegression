{
 "cells": [
  {
   "cell_type": "markdown",
   "id": "6bafa899",
   "metadata": {
    "papermill": {
     "duration": 0.009217,
     "end_time": "2022-11-10T23:32:51.494822",
     "exception": false,
     "start_time": "2022-11-10T23:32:51.485605",
     "status": "completed"
    },
    "tags": []
   },
   "source": [
    "### Import libraries"
   ]
  },
  {
   "cell_type": "code",
   "execution_count": 1,
   "id": "d1c2882c",
   "metadata": {
    "execution": {
     "iopub.execute_input": "2022-11-10T23:32:51.514298Z",
     "iopub.status.busy": "2022-11-10T23:32:51.513269Z",
     "iopub.status.idle": "2022-11-10T23:32:52.928085Z",
     "shell.execute_reply": "2022-11-10T23:32:52.926600Z"
    },
    "papermill": {
     "duration": 1.428046,
     "end_time": "2022-11-10T23:32:52.931174",
     "exception": false,
     "start_time": "2022-11-10T23:32:51.503128",
     "status": "completed"
    },
    "tags": []
   },
   "outputs": [],
   "source": [
    "import sklearn\n",
    "import seaborn as sns\n",
    "import matplotlib.pyplot as plt\n",
    "import pandas as pd\n",
    "import numpy as np\n",
    "from sklearn.model_selection import train_test_split\n",
    "from sklearn.linear_model import LinearRegression"
   ]
  },
  {
   "cell_type": "markdown",
   "id": "82a3b06e",
   "metadata": {
    "papermill": {
     "duration": 0.007872,
     "end_time": "2022-11-10T23:32:52.947590",
     "exception": false,
     "start_time": "2022-11-10T23:32:52.939718",
     "status": "completed"
    },
    "tags": []
   },
   "source": [
    "### Load Data"
   ]
  },
  {
   "cell_type": "code",
   "execution_count": 2,
   "id": "782edc0e",
   "metadata": {
    "execution": {
     "iopub.execute_input": "2022-11-10T23:32:52.965691Z",
     "iopub.status.busy": "2022-11-10T23:32:52.965223Z",
     "iopub.status.idle": "2022-11-10T23:32:53.087905Z",
     "shell.execute_reply": "2022-11-10T23:32:53.086671Z"
    },
    "papermill": {
     "duration": 0.134991,
     "end_time": "2022-11-10T23:32:53.090902",
     "exception": false,
     "start_time": "2022-11-10T23:32:52.955911",
     "status": "completed"
    },
    "tags": []
   },
   "outputs": [],
   "source": [
    "houseprice_df = pd.read_csv('../input/kc-house-data/kc_house_data.csv')"
   ]
  },
  {
   "cell_type": "markdown",
   "id": "56ca6131",
   "metadata": {
    "papermill": {
     "duration": 0.007819,
     "end_time": "2022-11-10T23:32:53.106818",
     "exception": false,
     "start_time": "2022-11-10T23:32:53.098999",
     "status": "completed"
    },
    "tags": []
   },
   "source": [
    "# Pre-process Data"
   ]
  },
  {
   "cell_type": "code",
   "execution_count": 3,
   "id": "b0208663",
   "metadata": {
    "execution": {
     "iopub.execute_input": "2022-11-10T23:32:53.127017Z",
     "iopub.status.busy": "2022-11-10T23:32:53.126207Z",
     "iopub.status.idle": "2022-11-10T23:32:53.168290Z",
     "shell.execute_reply": "2022-11-10T23:32:53.166881Z"
    },
    "papermill": {
     "duration": 0.055909,
     "end_time": "2022-11-10T23:32:53.170737",
     "exception": false,
     "start_time": "2022-11-10T23:32:53.114828",
     "status": "completed"
    },
    "tags": []
   },
   "outputs": [
    {
     "data": {
      "text/html": [
       "<div>\n",
       "<style scoped>\n",
       "    .dataframe tbody tr th:only-of-type {\n",
       "        vertical-align: middle;\n",
       "    }\n",
       "\n",
       "    .dataframe tbody tr th {\n",
       "        vertical-align: top;\n",
       "    }\n",
       "\n",
       "    .dataframe thead th {\n",
       "        text-align: right;\n",
       "    }\n",
       "</style>\n",
       "<table border=\"1\" class=\"dataframe\">\n",
       "  <thead>\n",
       "    <tr style=\"text-align: right;\">\n",
       "      <th></th>\n",
       "      <th>id</th>\n",
       "      <th>date</th>\n",
       "      <th>price</th>\n",
       "      <th>bedrooms</th>\n",
       "      <th>bathrooms</th>\n",
       "      <th>sqft_living</th>\n",
       "      <th>sqft_lot</th>\n",
       "      <th>floors</th>\n",
       "      <th>waterfront</th>\n",
       "      <th>view</th>\n",
       "      <th>...</th>\n",
       "      <th>grade</th>\n",
       "      <th>sqft_above</th>\n",
       "      <th>sqft_basement</th>\n",
       "      <th>yr_built</th>\n",
       "      <th>yr_renovated</th>\n",
       "      <th>zipcode</th>\n",
       "      <th>lat</th>\n",
       "      <th>long</th>\n",
       "      <th>sqft_living15</th>\n",
       "      <th>sqft_lot15</th>\n",
       "    </tr>\n",
       "  </thead>\n",
       "  <tbody>\n",
       "    <tr>\n",
       "      <th>15827</th>\n",
       "      <td>1656600280</td>\n",
       "      <td>20141002T000000</td>\n",
       "      <td>655000.0</td>\n",
       "      <td>4</td>\n",
       "      <td>2.50</td>\n",
       "      <td>3110</td>\n",
       "      <td>24466</td>\n",
       "      <td>2.0</td>\n",
       "      <td>0</td>\n",
       "      <td>0</td>\n",
       "      <td>...</td>\n",
       "      <td>9</td>\n",
       "      <td>3110.0</td>\n",
       "      <td>0</td>\n",
       "      <td>1997</td>\n",
       "      <td>0</td>\n",
       "      <td>98059</td>\n",
       "      <td>47.4898</td>\n",
       "      <td>-122.127</td>\n",
       "      <td>3080</td>\n",
       "      <td>22185</td>\n",
       "    </tr>\n",
       "    <tr>\n",
       "      <th>7749</th>\n",
       "      <td>4058200985</td>\n",
       "      <td>20140911T000000</td>\n",
       "      <td>472000.0</td>\n",
       "      <td>3</td>\n",
       "      <td>1.75</td>\n",
       "      <td>2180</td>\n",
       "      <td>7200</td>\n",
       "      <td>1.0</td>\n",
       "      <td>0</td>\n",
       "      <td>3</td>\n",
       "      <td>...</td>\n",
       "      <td>8</td>\n",
       "      <td>1090.0</td>\n",
       "      <td>1090</td>\n",
       "      <td>1954</td>\n",
       "      <td>0</td>\n",
       "      <td>98178</td>\n",
       "      <td>47.5044</td>\n",
       "      <td>-122.235</td>\n",
       "      <td>2180</td>\n",
       "      <td>7140</td>\n",
       "    </tr>\n",
       "    <tr>\n",
       "      <th>14715</th>\n",
       "      <td>9285800790</td>\n",
       "      <td>20150406T000000</td>\n",
       "      <td>590000.0</td>\n",
       "      <td>5</td>\n",
       "      <td>1.00</td>\n",
       "      <td>1840</td>\n",
       "      <td>6710</td>\n",
       "      <td>1.5</td>\n",
       "      <td>0</td>\n",
       "      <td>0</td>\n",
       "      <td>...</td>\n",
       "      <td>7</td>\n",
       "      <td>1840.0</td>\n",
       "      <td>0</td>\n",
       "      <td>1920</td>\n",
       "      <td>0</td>\n",
       "      <td>98126</td>\n",
       "      <td>47.5686</td>\n",
       "      <td>-122.378</td>\n",
       "      <td>1410</td>\n",
       "      <td>4880</td>\n",
       "    </tr>\n",
       "    <tr>\n",
       "      <th>13136</th>\n",
       "      <td>2591010040</td>\n",
       "      <td>20141110T000000</td>\n",
       "      <td>468000.0</td>\n",
       "      <td>2</td>\n",
       "      <td>1.75</td>\n",
       "      <td>1250</td>\n",
       "      <td>7029</td>\n",
       "      <td>1.0</td>\n",
       "      <td>0</td>\n",
       "      <td>0</td>\n",
       "      <td>...</td>\n",
       "      <td>7</td>\n",
       "      <td>1250.0</td>\n",
       "      <td>0</td>\n",
       "      <td>1986</td>\n",
       "      <td>0</td>\n",
       "      <td>98033</td>\n",
       "      <td>47.6936</td>\n",
       "      <td>-122.186</td>\n",
       "      <td>1680</td>\n",
       "      <td>8470</td>\n",
       "    </tr>\n",
       "    <tr>\n",
       "      <th>2647</th>\n",
       "      <td>7518500885</td>\n",
       "      <td>20140519T000000</td>\n",
       "      <td>560000.0</td>\n",
       "      <td>4</td>\n",
       "      <td>1.00</td>\n",
       "      <td>1660</td>\n",
       "      <td>4690</td>\n",
       "      <td>1.5</td>\n",
       "      <td>0</td>\n",
       "      <td>0</td>\n",
       "      <td>...</td>\n",
       "      <td>7</td>\n",
       "      <td>1260.0</td>\n",
       "      <td>400</td>\n",
       "      <td>1945</td>\n",
       "      <td>0</td>\n",
       "      <td>98117</td>\n",
       "      <td>47.6829</td>\n",
       "      <td>-122.378</td>\n",
       "      <td>1400</td>\n",
       "      <td>3876</td>\n",
       "    </tr>\n",
       "    <tr>\n",
       "      <th>6654</th>\n",
       "      <td>7950302210</td>\n",
       "      <td>20141114T000000</td>\n",
       "      <td>358000.0</td>\n",
       "      <td>4</td>\n",
       "      <td>2.00</td>\n",
       "      <td>2200</td>\n",
       "      <td>3060</td>\n",
       "      <td>1.0</td>\n",
       "      <td>0</td>\n",
       "      <td>0</td>\n",
       "      <td>...</td>\n",
       "      <td>7</td>\n",
       "      <td>1100.0</td>\n",
       "      <td>1100</td>\n",
       "      <td>1908</td>\n",
       "      <td>2000</td>\n",
       "      <td>98118</td>\n",
       "      <td>47.5650</td>\n",
       "      <td>-122.284</td>\n",
       "      <td>1410</td>\n",
       "      <td>5100</td>\n",
       "    </tr>\n",
       "    <tr>\n",
       "      <th>7811</th>\n",
       "      <td>122029066</td>\n",
       "      <td>20150508T000000</td>\n",
       "      <td>490000.0</td>\n",
       "      <td>3</td>\n",
       "      <td>1.75</td>\n",
       "      <td>2020</td>\n",
       "      <td>215622</td>\n",
       "      <td>2.0</td>\n",
       "      <td>0</td>\n",
       "      <td>0</td>\n",
       "      <td>...</td>\n",
       "      <td>7</td>\n",
       "      <td>2020.0</td>\n",
       "      <td>0</td>\n",
       "      <td>1975</td>\n",
       "      <td>0</td>\n",
       "      <td>98070</td>\n",
       "      <td>47.4189</td>\n",
       "      <td>-122.499</td>\n",
       "      <td>1810</td>\n",
       "      <td>215622</td>\n",
       "    </tr>\n",
       "    <tr>\n",
       "      <th>21597</th>\n",
       "      <td>191100405</td>\n",
       "      <td>20150421T000000</td>\n",
       "      <td>1575000.0</td>\n",
       "      <td>4</td>\n",
       "      <td>3.25</td>\n",
       "      <td>3410</td>\n",
       "      <td>10125</td>\n",
       "      <td>2.0</td>\n",
       "      <td>0</td>\n",
       "      <td>0</td>\n",
       "      <td>...</td>\n",
       "      <td>10</td>\n",
       "      <td>3410.0</td>\n",
       "      <td>0</td>\n",
       "      <td>2007</td>\n",
       "      <td>0</td>\n",
       "      <td>98040</td>\n",
       "      <td>47.5653</td>\n",
       "      <td>-122.223</td>\n",
       "      <td>2290</td>\n",
       "      <td>10125</td>\n",
       "    </tr>\n",
       "    <tr>\n",
       "      <th>4876</th>\n",
       "      <td>8682310460</td>\n",
       "      <td>20140709T000000</td>\n",
       "      <td>498800.0</td>\n",
       "      <td>2</td>\n",
       "      <td>1.75</td>\n",
       "      <td>1350</td>\n",
       "      <td>4614</td>\n",
       "      <td>1.0</td>\n",
       "      <td>0</td>\n",
       "      <td>0</td>\n",
       "      <td>...</td>\n",
       "      <td>8</td>\n",
       "      <td>1350.0</td>\n",
       "      <td>0</td>\n",
       "      <td>2008</td>\n",
       "      <td>0</td>\n",
       "      <td>98053</td>\n",
       "      <td>47.7091</td>\n",
       "      <td>-122.015</td>\n",
       "      <td>1680</td>\n",
       "      <td>4775</td>\n",
       "    </tr>\n",
       "    <tr>\n",
       "      <th>9800</th>\n",
       "      <td>1545804820</td>\n",
       "      <td>20141111T000000</td>\n",
       "      <td>240000.0</td>\n",
       "      <td>3</td>\n",
       "      <td>1.75</td>\n",
       "      <td>1380</td>\n",
       "      <td>7500</td>\n",
       "      <td>1.0</td>\n",
       "      <td>0</td>\n",
       "      <td>0</td>\n",
       "      <td>...</td>\n",
       "      <td>7</td>\n",
       "      <td>1380.0</td>\n",
       "      <td>0</td>\n",
       "      <td>1988</td>\n",
       "      <td>0</td>\n",
       "      <td>98038</td>\n",
       "      <td>47.3628</td>\n",
       "      <td>-122.045</td>\n",
       "      <td>1530</td>\n",
       "      <td>7500</td>\n",
       "    </tr>\n",
       "  </tbody>\n",
       "</table>\n",
       "<p>10 rows × 21 columns</p>\n",
       "</div>"
      ],
      "text/plain": [
       "               id             date      price  bedrooms  bathrooms  \\\n",
       "15827  1656600280  20141002T000000   655000.0         4       2.50   \n",
       "7749   4058200985  20140911T000000   472000.0         3       1.75   \n",
       "14715  9285800790  20150406T000000   590000.0         5       1.00   \n",
       "13136  2591010040  20141110T000000   468000.0         2       1.75   \n",
       "2647   7518500885  20140519T000000   560000.0         4       1.00   \n",
       "6654   7950302210  20141114T000000   358000.0         4       2.00   \n",
       "7811    122029066  20150508T000000   490000.0         3       1.75   \n",
       "21597   191100405  20150421T000000  1575000.0         4       3.25   \n",
       "4876   8682310460  20140709T000000   498800.0         2       1.75   \n",
       "9800   1545804820  20141111T000000   240000.0         3       1.75   \n",
       "\n",
       "       sqft_living  sqft_lot  floors  waterfront  view  ...  grade  \\\n",
       "15827         3110     24466     2.0           0     0  ...      9   \n",
       "7749          2180      7200     1.0           0     3  ...      8   \n",
       "14715         1840      6710     1.5           0     0  ...      7   \n",
       "13136         1250      7029     1.0           0     0  ...      7   \n",
       "2647          1660      4690     1.5           0     0  ...      7   \n",
       "6654          2200      3060     1.0           0     0  ...      7   \n",
       "7811          2020    215622     2.0           0     0  ...      7   \n",
       "21597         3410     10125     2.0           0     0  ...     10   \n",
       "4876          1350      4614     1.0           0     0  ...      8   \n",
       "9800          1380      7500     1.0           0     0  ...      7   \n",
       "\n",
       "       sqft_above  sqft_basement  yr_built  yr_renovated  zipcode      lat  \\\n",
       "15827      3110.0              0      1997             0    98059  47.4898   \n",
       "7749       1090.0           1090      1954             0    98178  47.5044   \n",
       "14715      1840.0              0      1920             0    98126  47.5686   \n",
       "13136      1250.0              0      1986             0    98033  47.6936   \n",
       "2647       1260.0            400      1945             0    98117  47.6829   \n",
       "6654       1100.0           1100      1908          2000    98118  47.5650   \n",
       "7811       2020.0              0      1975             0    98070  47.4189   \n",
       "21597      3410.0              0      2007             0    98040  47.5653   \n",
       "4876       1350.0              0      2008             0    98053  47.7091   \n",
       "9800       1380.0              0      1988             0    98038  47.3628   \n",
       "\n",
       "          long  sqft_living15  sqft_lot15  \n",
       "15827 -122.127           3080       22185  \n",
       "7749  -122.235           2180        7140  \n",
       "14715 -122.378           1410        4880  \n",
       "13136 -122.186           1680        8470  \n",
       "2647  -122.378           1400        3876  \n",
       "6654  -122.284           1410        5100  \n",
       "7811  -122.499           1810      215622  \n",
       "21597 -122.223           2290       10125  \n",
       "4876  -122.015           1680        4775  \n",
       "9800  -122.045           1530        7500  \n",
       "\n",
       "[10 rows x 21 columns]"
      ]
     },
     "execution_count": 3,
     "metadata": {},
     "output_type": "execute_result"
    }
   ],
   "source": [
    "houseprice_df.head()\n",
    "houseprice_df.sample(10)"
   ]
  },
  {
   "cell_type": "code",
   "execution_count": 4,
   "id": "f40c792c",
   "metadata": {
    "execution": {
     "iopub.execute_input": "2022-11-10T23:32:53.189884Z",
     "iopub.status.busy": "2022-11-10T23:32:53.189477Z",
     "iopub.status.idle": "2022-11-10T23:32:53.196533Z",
     "shell.execute_reply": "2022-11-10T23:32:53.195447Z"
    },
    "papermill": {
     "duration": 0.019462,
     "end_time": "2022-11-10T23:32:53.198786",
     "exception": false,
     "start_time": "2022-11-10T23:32:53.179324",
     "status": "completed"
    },
    "tags": []
   },
   "outputs": [
    {
     "data": {
      "text/plain": [
       "(21613, 21)"
      ]
     },
     "execution_count": 4,
     "metadata": {},
     "output_type": "execute_result"
    }
   ],
   "source": [
    "houseprice_df.shape"
   ]
  },
  {
   "cell_type": "markdown",
   "id": "fd106cb8",
   "metadata": {
    "papermill": {
     "duration": 0.008479,
     "end_time": "2022-11-10T23:32:53.216052",
     "exception": false,
     "start_time": "2022-11-10T23:32:53.207573",
     "status": "completed"
    },
    "tags": []
   },
   "source": [
    "# Drop unneccessary columns"
   ]
  },
  {
   "cell_type": "code",
   "execution_count": 5,
   "id": "547172f3",
   "metadata": {
    "execution": {
     "iopub.execute_input": "2022-11-10T23:32:53.235766Z",
     "iopub.status.busy": "2022-11-10T23:32:53.235334Z",
     "iopub.status.idle": "2022-11-10T23:32:53.245224Z",
     "shell.execute_reply": "2022-11-10T23:32:53.243799Z"
    },
    "papermill": {
     "duration": 0.022849,
     "end_time": "2022-11-10T23:32:53.247575",
     "exception": false,
     "start_time": "2022-11-10T23:32:53.224726",
     "status": "completed"
    },
    "tags": []
   },
   "outputs": [],
   "source": [
    "houseprice_df = houseprice_df.drop([\"id\",\"date\",\"zipcode\",\"lat\",\"long\"],axis=1)"
   ]
  },
  {
   "cell_type": "code",
   "execution_count": 6,
   "id": "37f081ee",
   "metadata": {
    "execution": {
     "iopub.execute_input": "2022-11-10T23:32:53.267312Z",
     "iopub.status.busy": "2022-11-10T23:32:53.266885Z",
     "iopub.status.idle": "2022-11-10T23:32:53.501628Z",
     "shell.execute_reply": "2022-11-10T23:32:53.500787Z"
    },
    "papermill": {
     "duration": 0.247243,
     "end_time": "2022-11-10T23:32:53.503723",
     "exception": false,
     "start_time": "2022-11-10T23:32:53.256480",
     "status": "completed"
    },
    "tags": []
   },
   "outputs": [
    {
     "data": {
      "text/plain": [
       "<AxesSubplot:xlabel='yr_renovated'>"
      ]
     },
     "execution_count": 6,
     "metadata": {},
     "output_type": "execute_result"
    },
    {
     "data": {
      "image/png": "[encoded data removed]",
      "text/plain": [
       "<Figure size 432x288 with 1 Axes>"
      ]
     },
     "metadata": {
      "needs_background": "light"
     },
     "output_type": "display_data"
    }
   ],
   "source": [
    "sns.boxplot(data=houseprice_df,x='yr_renovated')"
   ]
  },
  {
   "cell_type": "code",
   "execution_count": 7,
   "id": "069c6642",
   "metadata": {
    "execution": {
     "iopub.execute_input": "2022-11-10T23:32:53.523881Z",
     "iopub.status.busy": "2022-11-10T23:32:53.523486Z",
     "iopub.status.idle": "2022-11-10T23:32:53.529846Z",
     "shell.execute_reply": "2022-11-10T23:32:53.529054Z"
    },
    "papermill": {
     "duration": 0.019116,
     "end_time": "2022-11-10T23:32:53.532064",
     "exception": false,
     "start_time": "2022-11-10T23:32:53.512948",
     "status": "completed"
    },
    "tags": []
   },
   "outputs": [],
   "source": [
    "houseprice_df.loc[houseprice_df[\"yr_renovated\"]>1,\"yr_renovated\"]=1"
   ]
  },
  {
   "cell_type": "code",
   "execution_count": 8,
   "id": "7d294701",
   "metadata": {
    "execution": {
     "iopub.execute_input": "2022-11-10T23:32:53.552388Z",
     "iopub.status.busy": "2022-11-10T23:32:53.551731Z",
     "iopub.status.idle": "2022-11-10T23:32:53.558566Z",
     "shell.execute_reply": "2022-11-10T23:32:53.557649Z"
    },
    "papermill": {
     "duration": 0.019514,
     "end_time": "2022-11-10T23:32:53.560695",
     "exception": false,
     "start_time": "2022-11-10T23:32:53.541181",
     "status": "completed"
    },
    "tags": []
   },
   "outputs": [
    {
     "data": {
      "text/plain": [
       "0    0\n",
       "1    1\n",
       "2    0\n",
       "3    0\n",
       "4    0\n",
       "Name: yr_renovated, dtype: int64"
      ]
     },
     "execution_count": 8,
     "metadata": {},
     "output_type": "execute_result"
    }
   ],
   "source": [
    "houseprice_df[\"yr_renovated\"].head()"
   ]
  },
  {
   "cell_type": "markdown",
   "id": "2bf518ca",
   "metadata": {
    "papermill": {
     "duration": 0.008902,
     "end_time": "2022-11-10T23:32:53.578999",
     "exception": false,
     "start_time": "2022-11-10T23:32:53.570097",
     "status": "completed"
    },
    "tags": []
   },
   "source": [
    "# Clean Null values"
   ]
  },
  {
   "cell_type": "code",
   "execution_count": 9,
   "id": "dbb52a21",
   "metadata": {
    "execution": {
     "iopub.execute_input": "2022-11-10T23:32:53.599672Z",
     "iopub.status.busy": "2022-11-10T23:32:53.599200Z",
     "iopub.status.idle": "2022-11-10T23:32:53.611159Z",
     "shell.execute_reply": "2022-11-10T23:32:53.610016Z"
    },
    "papermill": {
     "duration": 0.025506,
     "end_time": "2022-11-10T23:32:53.613780",
     "exception": false,
     "start_time": "2022-11-10T23:32:53.588274",
     "status": "completed"
    },
    "tags": []
   },
   "outputs": [],
   "source": [
    "houseprice_df=houseprice_df.dropna()"
   ]
  },
  {
   "cell_type": "code",
   "execution_count": 10,
   "id": "d07ad5f2",
   "metadata": {
    "execution": {
     "iopub.execute_input": "2022-11-10T23:32:53.634438Z",
     "iopub.status.busy": "2022-11-10T23:32:53.633759Z",
     "iopub.status.idle": "2022-11-10T23:32:53.642514Z",
     "shell.execute_reply": "2022-11-10T23:32:53.641242Z"
    },
    "papermill": {
     "duration": 0.021832,
     "end_time": "2022-11-10T23:32:53.644795",
     "exception": false,
     "start_time": "2022-11-10T23:32:53.622963",
     "status": "completed"
    },
    "tags": []
   },
   "outputs": [
    {
     "data": {
      "text/plain": [
       "price            float64\n",
       "bedrooms           int64\n",
       "bathrooms        float64\n",
       "sqft_living        int64\n",
       "sqft_lot           int64\n",
       "floors           float64\n",
       "waterfront         int64\n",
       "view               int64\n",
       "condition          int64\n",
       "grade              int64\n",
       "sqft_above       float64\n",
       "sqft_basement      int64\n",
       "yr_built           int64\n",
       "yr_renovated       int64\n",
       "sqft_living15      int64\n",
       "sqft_lot15         int64\n",
       "dtype: object"
      ]
     },
     "execution_count": 10,
     "metadata": {},
     "output_type": "execute_result"
    }
   ],
   "source": [
    "houseprice_df.dtypes"
   ]
  },
  {
   "cell_type": "code",
   "execution_count": 11,
   "id": "fb5717da",
   "metadata": {
    "execution": {
     "iopub.execute_input": "2022-11-10T23:32:53.666777Z",
     "iopub.status.busy": "2022-11-10T23:32:53.665924Z",
     "iopub.status.idle": "2022-11-10T23:32:53.671583Z",
     "shell.execute_reply": "2022-11-10T23:32:53.670622Z"
    },
    "papermill": {
     "duration": 0.019845,
     "end_time": "2022-11-10T23:32:53.674150",
     "exception": false,
     "start_time": "2022-11-10T23:32:53.654305",
     "status": "completed"
    },
    "tags": []
   },
   "outputs": [],
   "source": [
    "col_name=[\"view\",\"yr_renovated\",\"waterfront\"]"
   ]
  },
  {
   "cell_type": "code",
   "execution_count": 12,
   "id": "e096f81f",
   "metadata": {
    "execution": {
     "iopub.execute_input": "2022-11-10T23:32:53.695617Z",
     "iopub.status.busy": "2022-11-10T23:32:53.694403Z",
     "iopub.status.idle": "2022-11-10T23:32:53.707959Z",
     "shell.execute_reply": "2022-11-10T23:32:53.706562Z"
    },
    "papermill": {
     "duration": 0.027417,
     "end_time": "2022-11-10T23:32:53.711095",
     "exception": false,
     "start_time": "2022-11-10T23:32:53.683678",
     "status": "completed"
    },
    "tags": []
   },
   "outputs": [],
   "source": [
    "for col in col_name:\n",
    "    houseprice_df[col]=houseprice_df[col].astype(\"category\", copy=False)"
   ]
  },
  {
   "cell_type": "markdown",
   "id": "0189565c",
   "metadata": {
    "papermill": {
     "duration": 0.010803,
     "end_time": "2022-11-10T23:32:53.732680",
     "exception": false,
     "start_time": "2022-11-10T23:32:53.721877",
     "status": "completed"
    },
    "tags": []
   },
   "source": [
    "# Explore Dataset"
   ]
  },
  {
   "cell_type": "code",
   "execution_count": 13,
   "id": "89444ca3",
   "metadata": {
    "execution": {
     "iopub.execute_input": "2022-11-10T23:32:53.753943Z",
     "iopub.status.busy": "2022-11-10T23:32:53.753473Z",
     "iopub.status.idle": "2022-11-10T23:32:53.764220Z",
     "shell.execute_reply": "2022-11-10T23:32:53.762689Z"
    },
    "papermill": {
     "duration": 0.024306,
     "end_time": "2022-11-10T23:32:53.766726",
     "exception": false,
     "start_time": "2022-11-10T23:32:53.742420",
     "status": "completed"
    },
    "tags": []
   },
   "outputs": [
    {
     "data": {
      "text/plain": [
       "price             float64\n",
       "bedrooms            int64\n",
       "bathrooms         float64\n",
       "sqft_living         int64\n",
       "sqft_lot            int64\n",
       "floors            float64\n",
       "waterfront       category\n",
       "view             category\n",
       "condition           int64\n",
       "grade               int64\n",
       "sqft_above        float64\n",
       "sqft_basement       int64\n",
       "yr_built            int64\n",
       "yr_renovated     category\n",
       "sqft_living15       int64\n",
       "sqft_lot15          int64\n",
       "dtype: object"
      ]
     },
     "execution_count": 13,
     "metadata": {},
     "output_type": "execute_result"
    }
   ],
   "source": [
    "houseprice_df.dtypes"
   ]
  },
  {
   "cell_type": "code",
   "execution_count": 14,
   "id": "82273ecb",
   "metadata": {
    "execution": {
     "iopub.execute_input": "2022-11-10T23:32:53.788439Z",
     "iopub.status.busy": "2022-11-10T23:32:53.787572Z",
     "iopub.status.idle": "2022-11-10T23:32:53.911306Z",
     "shell.execute_reply": "2022-11-10T23:32:53.909801Z"
    },
    "papermill": {
     "duration": 0.137697,
     "end_time": "2022-11-10T23:32:53.914276",
     "exception": false,
     "start_time": "2022-11-10T23:32:53.776579",
     "status": "completed"
    },
    "tags": []
   },
   "outputs": [],
   "source": [
    "houseprice_df.to_csv('houseprice_clean.csv',index=False,header=True)"
   ]
  },
  {
   "cell_type": "code",
   "execution_count": 15,
   "id": "a3b56c58",
   "metadata": {
    "execution": {
     "iopub.execute_input": "2022-11-10T23:32:53.935280Z",
     "iopub.status.busy": "2022-11-10T23:32:53.934872Z",
     "iopub.status.idle": "2022-11-10T23:32:54.211000Z",
     "shell.execute_reply": "2022-11-10T23:32:54.209828Z"
    },
    "papermill": {
     "duration": 0.289732,
     "end_time": "2022-11-10T23:32:54.213719",
     "exception": false,
     "start_time": "2022-11-10T23:32:53.923987",
     "status": "completed"
    },
    "tags": []
   },
   "outputs": [
    {
     "data": {
      "image/png": "[encoded data removed]",
      "text/plain": [
       "<Figure size 576x576 with 1 Axes>"
      ]
     },
     "metadata": {
      "needs_background": "light"
     },
     "output_type": "display_data"
    }
   ],
   "source": [
    "fig, ax = plt.subplots(figsize = (8, 8))\n",
    "\n",
    "plt.scatter(houseprice_df['bedrooms'], houseprice_df['bathrooms'])\n",
    "\n",
    "plt.xlabel('Number of Bedrooms/House')\n",
    "plt.ylabel('Number of bathrooms/bedrooms')\n",
    "plt.show()"
   ]
  },
  {
   "cell_type": "code",
   "execution_count": 16,
   "id": "3c11d95d",
   "metadata": {
    "execution": {
     "iopub.execute_input": "2022-11-10T23:32:54.235333Z",
     "iopub.status.busy": "2022-11-10T23:32:54.234911Z",
     "iopub.status.idle": "2022-11-10T23:32:54.505712Z",
     "shell.execute_reply": "2022-11-10T23:32:54.504468Z"
    },
    "papermill": {
     "duration": 0.284619,
     "end_time": "2022-11-10T23:32:54.508343",
     "exception": false,
     "start_time": "2022-11-10T23:32:54.223724",
     "status": "completed"
    },
    "tags": []
   },
   "outputs": [
    {
     "data": {
      "image/png": "[encoded data removed]",
      "text/plain": [
       "<Figure size 576x576 with 1 Axes>"
      ]
     },
     "metadata": {
      "needs_background": "light"
     },
     "output_type": "display_data"
    }
   ],
   "source": [
    "fig, ax = plt.subplots(figsize = (8, 8))\n",
    "\n",
    "plt.scatter(houseprice_df['sqft_living'], houseprice_df['price'])\n",
    "\n",
    "plt.xlabel('square footage of the home')\n",
    "plt.ylabel('price')\n",
    "plt.show()\n"
   ]
  },
  {
   "cell_type": "code",
   "execution_count": 17,
   "id": "f3545e98",
   "metadata": {
    "execution": {
     "iopub.execute_input": "2022-11-10T23:32:54.531457Z",
     "iopub.status.busy": "2022-11-10T23:32:54.531047Z",
     "iopub.status.idle": "2022-11-10T23:32:54.791223Z",
     "shell.execute_reply": "2022-11-10T23:32:54.790004Z"
    },
    "papermill": {
     "duration": 0.275093,
     "end_time": "2022-11-10T23:32:54.793933",
     "exception": false,
     "start_time": "2022-11-10T23:32:54.518840",
     "status": "completed"
    },
    "tags": []
   },
   "outputs": [
    {
     "data": {
      "image/png": "[encoded data removed]",
      "text/plain": [
       "<Figure size 576x576 with 1 Axes>"
      ]
     },
     "metadata": {
      "needs_background": "light"
     },
     "output_type": "display_data"
    }
   ],
   "source": [
    "fig, ax = plt.subplots(figsize = (8, 8))\n",
    "\n",
    "plt.scatter(houseprice_df['grade'], houseprice_df['price'])\n",
    "\n",
    "plt.xlabel('Grade')\n",
    "plt.ylabel('price')\n",
    "plt.show()"
   ]
  },
  {
   "cell_type": "code",
   "execution_count": 18,
   "id": "a8c9363c",
   "metadata": {
    "execution": {
     "iopub.execute_input": "2022-11-10T23:32:54.816881Z",
     "iopub.status.busy": "2022-11-10T23:32:54.816421Z",
     "iopub.status.idle": "2022-11-10T23:32:54.854545Z",
     "shell.execute_reply": "2022-11-10T23:32:54.853351Z"
    },
    "papermill": {
     "duration": 0.052616,
     "end_time": "2022-11-10T23:32:54.857252",
     "exception": false,
     "start_time": "2022-11-10T23:32:54.804636",
     "status": "completed"
    },
    "tags": []
   },
   "outputs": [
    {
     "data": {
      "text/html": [
       "<div>\n",
       "<style scoped>\n",
       "    .dataframe tbody tr th:only-of-type {\n",
       "        vertical-align: middle;\n",
       "    }\n",
       "\n",
       "    .dataframe tbody tr th {\n",
       "        vertical-align: top;\n",
       "    }\n",
       "\n",
       "    .dataframe thead th {\n",
       "        text-align: right;\n",
       "    }\n",
       "</style>\n",
       "<table border=\"1\" class=\"dataframe\">\n",
       "  <thead>\n",
       "    <tr style=\"text-align: right;\">\n",
       "      <th></th>\n",
       "      <th>price</th>\n",
       "      <th>bedrooms</th>\n",
       "      <th>bathrooms</th>\n",
       "      <th>sqft_living</th>\n",
       "      <th>sqft_lot</th>\n",
       "      <th>floors</th>\n",
       "      <th>condition</th>\n",
       "      <th>grade</th>\n",
       "      <th>sqft_above</th>\n",
       "      <th>sqft_basement</th>\n",
       "      <th>yr_built</th>\n",
       "      <th>sqft_living15</th>\n",
       "      <th>sqft_lot15</th>\n",
       "    </tr>\n",
       "  </thead>\n",
       "  <tbody>\n",
       "    <tr>\n",
       "      <th>price</th>\n",
       "      <td>1.000000</td>\n",
       "      <td>0.308366</td>\n",
       "      <td>0.525150</td>\n",
       "      <td>0.702055</td>\n",
       "      <td>0.089661</td>\n",
       "      <td>0.256814</td>\n",
       "      <td>0.036379</td>\n",
       "      <td>0.667434</td>\n",
       "      <td>0.605567</td>\n",
       "      <td>0.323842</td>\n",
       "      <td>0.054006</td>\n",
       "      <td>0.585377</td>\n",
       "      <td>0.082448</td>\n",
       "    </tr>\n",
       "    <tr>\n",
       "      <th>bedrooms</th>\n",
       "      <td>0.308366</td>\n",
       "      <td>1.000000</td>\n",
       "      <td>0.515974</td>\n",
       "      <td>0.576763</td>\n",
       "      <td>0.031710</td>\n",
       "      <td>0.175418</td>\n",
       "      <td>0.028433</td>\n",
       "      <td>0.356998</td>\n",
       "      <td>0.477616</td>\n",
       "      <td>0.303251</td>\n",
       "      <td>0.154248</td>\n",
       "      <td>0.391670</td>\n",
       "      <td>0.029252</td>\n",
       "    </tr>\n",
       "    <tr>\n",
       "      <th>bathrooms</th>\n",
       "      <td>0.525150</td>\n",
       "      <td>0.515974</td>\n",
       "      <td>1.000000</td>\n",
       "      <td>0.754684</td>\n",
       "      <td>0.087730</td>\n",
       "      <td>0.500712</td>\n",
       "      <td>-0.124917</td>\n",
       "      <td>0.664981</td>\n",
       "      <td>0.685363</td>\n",
       "      <td>0.283737</td>\n",
       "      <td>0.505968</td>\n",
       "      <td>0.568626</td>\n",
       "      <td>0.087163</td>\n",
       "    </tr>\n",
       "    <tr>\n",
       "      <th>sqft_living</th>\n",
       "      <td>0.702055</td>\n",
       "      <td>0.576763</td>\n",
       "      <td>0.754684</td>\n",
       "      <td>1.000000</td>\n",
       "      <td>0.172841</td>\n",
       "      <td>0.354048</td>\n",
       "      <td>-0.058689</td>\n",
       "      <td>0.762727</td>\n",
       "      <td>0.876644</td>\n",
       "      <td>0.434925</td>\n",
       "      <td>0.318066</td>\n",
       "      <td>0.756440</td>\n",
       "      <td>0.183301</td>\n",
       "    </tr>\n",
       "    <tr>\n",
       "      <th>sqft_lot</th>\n",
       "      <td>0.089661</td>\n",
       "      <td>0.031710</td>\n",
       "      <td>0.087730</td>\n",
       "      <td>0.172841</td>\n",
       "      <td>1.000000</td>\n",
       "      <td>-0.005206</td>\n",
       "      <td>-0.008951</td>\n",
       "      <td>0.113617</td>\n",
       "      <td>0.183511</td>\n",
       "      <td>0.015301</td>\n",
       "      <td>0.053061</td>\n",
       "      <td>0.144605</td>\n",
       "      <td>0.718556</td>\n",
       "    </tr>\n",
       "    <tr>\n",
       "      <th>floors</th>\n",
       "      <td>0.256814</td>\n",
       "      <td>0.175418</td>\n",
       "      <td>0.500712</td>\n",
       "      <td>0.354048</td>\n",
       "      <td>-0.005206</td>\n",
       "      <td>1.000000</td>\n",
       "      <td>-0.263808</td>\n",
       "      <td>0.458208</td>\n",
       "      <td>0.523899</td>\n",
       "      <td>-0.245634</td>\n",
       "      <td>0.489361</td>\n",
       "      <td>0.279907</td>\n",
       "      <td>-0.011275</td>\n",
       "    </tr>\n",
       "    <tr>\n",
       "      <th>condition</th>\n",
       "      <td>0.036379</td>\n",
       "      <td>0.028433</td>\n",
       "      <td>-0.124917</td>\n",
       "      <td>-0.058689</td>\n",
       "      <td>-0.008951</td>\n",
       "      <td>-0.263808</td>\n",
       "      <td>1.000000</td>\n",
       "      <td>-0.144647</td>\n",
       "      <td>-0.158206</td>\n",
       "      <td>0.174273</td>\n",
       "      <td>-0.361384</td>\n",
       "      <td>-0.092795</td>\n",
       "      <td>-0.003397</td>\n",
       "    </tr>\n",
       "    <tr>\n",
       "      <th>grade</th>\n",
       "      <td>0.667434</td>\n",
       "      <td>0.356998</td>\n",
       "      <td>0.664981</td>\n",
       "      <td>0.762727</td>\n",
       "      <td>0.113617</td>\n",
       "      <td>0.458208</td>\n",
       "      <td>-0.144647</td>\n",
       "      <td>1.000000</td>\n",
       "      <td>0.755924</td>\n",
       "      <td>0.168375</td>\n",
       "      <td>0.446958</td>\n",
       "      <td>0.713197</td>\n",
       "      <td>0.119243</td>\n",
       "    </tr>\n",
       "    <tr>\n",
       "      <th>sqft_above</th>\n",
       "      <td>0.605567</td>\n",
       "      <td>0.477616</td>\n",
       "      <td>0.685363</td>\n",
       "      <td>0.876644</td>\n",
       "      <td>0.183511</td>\n",
       "      <td>0.523899</td>\n",
       "      <td>-0.158206</td>\n",
       "      <td>0.755924</td>\n",
       "      <td>1.000000</td>\n",
       "      <td>-0.051976</td>\n",
       "      <td>0.423915</td>\n",
       "      <td>0.731871</td>\n",
       "      <td>0.194048</td>\n",
       "    </tr>\n",
       "    <tr>\n",
       "      <th>sqft_basement</th>\n",
       "      <td>0.323842</td>\n",
       "      <td>0.303251</td>\n",
       "      <td>0.283737</td>\n",
       "      <td>0.434925</td>\n",
       "      <td>0.015301</td>\n",
       "      <td>-0.245634</td>\n",
       "      <td>0.174273</td>\n",
       "      <td>0.168375</td>\n",
       "      <td>-0.051976</td>\n",
       "      <td>1.000000</td>\n",
       "      <td>-0.133195</td>\n",
       "      <td>0.200341</td>\n",
       "      <td>0.017292</td>\n",
       "    </tr>\n",
       "    <tr>\n",
       "      <th>yr_built</th>\n",
       "      <td>0.054006</td>\n",
       "      <td>0.154248</td>\n",
       "      <td>0.505968</td>\n",
       "      <td>0.318066</td>\n",
       "      <td>0.053061</td>\n",
       "      <td>0.489361</td>\n",
       "      <td>-0.361384</td>\n",
       "      <td>0.446958</td>\n",
       "      <td>0.423915</td>\n",
       "      <td>-0.133195</td>\n",
       "      <td>1.000000</td>\n",
       "      <td>0.326214</td>\n",
       "      <td>0.070936</td>\n",
       "    </tr>\n",
       "    <tr>\n",
       "      <th>sqft_living15</th>\n",
       "      <td>0.585377</td>\n",
       "      <td>0.391670</td>\n",
       "      <td>0.568626</td>\n",
       "      <td>0.756440</td>\n",
       "      <td>0.144605</td>\n",
       "      <td>0.279907</td>\n",
       "      <td>-0.092795</td>\n",
       "      <td>0.713197</td>\n",
       "      <td>0.731871</td>\n",
       "      <td>0.200341</td>\n",
       "      <td>0.326214</td>\n",
       "      <td>1.000000</td>\n",
       "      <td>0.183188</td>\n",
       "    </tr>\n",
       "    <tr>\n",
       "      <th>sqft_lot15</th>\n",
       "      <td>0.082448</td>\n",
       "      <td>0.029252</td>\n",
       "      <td>0.087163</td>\n",
       "      <td>0.183301</td>\n",
       "      <td>0.718556</td>\n",
       "      <td>-0.011275</td>\n",
       "      <td>-0.003397</td>\n",
       "      <td>0.119243</td>\n",
       "      <td>0.194048</td>\n",
       "      <td>0.017292</td>\n",
       "      <td>0.070936</td>\n",
       "      <td>0.183188</td>\n",
       "      <td>1.000000</td>\n",
       "    </tr>\n",
       "  </tbody>\n",
       "</table>\n",
       "</div>"
      ],
      "text/plain": [
       "                  price  bedrooms  bathrooms  sqft_living  sqft_lot    floors  \\\n",
       "price          1.000000  0.308366   0.525150     0.702055  0.089661  0.256814   \n",
       "bedrooms       0.308366  1.000000   0.515974     0.576763  0.031710  0.175418   \n",
       "bathrooms      0.525150  0.515974   1.000000     0.754684  0.087730  0.500712   \n",
       "sqft_living    0.702055  0.576763   0.754684     1.000000  0.172841  0.354048   \n",
       "sqft_lot       0.089661  0.031710   0.087730     0.172841  1.000000 -0.005206   \n",
       "floors         0.256814  0.175418   0.500712     0.354048 -0.005206  1.000000   \n",
       "condition      0.036379  0.028433  -0.124917    -0.058689 -0.008951 -0.263808   \n",
       "grade          0.667434  0.356998   0.664981     0.762727  0.113617  0.458208   \n",
       "sqft_above     0.605567  0.477616   0.685363     0.876644  0.183511  0.523899   \n",
       "sqft_basement  0.323842  0.303251   0.283737     0.434925  0.015301 -0.245634   \n",
       "yr_built       0.054006  0.154248   0.505968     0.318066  0.053061  0.489361   \n",
       "sqft_living15  0.585377  0.391670   0.568626     0.756440  0.144605  0.279907   \n",
       "sqft_lot15     0.082448  0.029252   0.087163     0.183301  0.718556 -0.011275   \n",
       "\n",
       "               condition     grade  sqft_above  sqft_basement  yr_built  \\\n",
       "price           0.036379  0.667434    0.605567       0.323842  0.054006   \n",
       "bedrooms        0.028433  0.356998    0.477616       0.303251  0.154248   \n",
       "bathrooms      -0.124917  0.664981    0.685363       0.283737  0.505968   \n",
       "sqft_living    -0.058689  0.762727    0.876644       0.434925  0.318066   \n",
       "sqft_lot       -0.008951  0.113617    0.183511       0.015301  0.053061   \n",
       "floors         -0.263808  0.458208    0.523899      -0.245634  0.489361   \n",
       "condition       1.000000 -0.144647   -0.158206       0.174273 -0.361384   \n",
       "grade          -0.144647  1.000000    0.755924       0.168375  0.446958   \n",
       "sqft_above     -0.158206  0.755924    1.000000      -0.051976  0.423915   \n",
       "sqft_basement   0.174273  0.168375   -0.051976       1.000000 -0.133195   \n",
       "yr_built       -0.361384  0.446958    0.423915      -0.133195  1.000000   \n",
       "sqft_living15  -0.092795  0.713197    0.731871       0.200341  0.326214   \n",
       "sqft_lot15     -0.003397  0.119243    0.194048       0.017292  0.070936   \n",
       "\n",
       "               sqft_living15  sqft_lot15  \n",
       "price               0.585377    0.082448  \n",
       "bedrooms            0.391670    0.029252  \n",
       "bathrooms           0.568626    0.087163  \n",
       "sqft_living         0.756440    0.183301  \n",
       "sqft_lot            0.144605    0.718556  \n",
       "floors              0.279907   -0.011275  \n",
       "condition          -0.092795   -0.003397  \n",
       "grade               0.713197    0.119243  \n",
       "sqft_above          0.731871    0.194048  \n",
       "sqft_basement       0.200341    0.017292  \n",
       "yr_built            0.326214    0.070936  \n",
       "sqft_living15       1.000000    0.183188  \n",
       "sqft_lot15          0.183188    1.000000  "
      ]
     },
     "execution_count": 18,
     "metadata": {},
     "output_type": "execute_result"
    }
   ],
   "source": [
    "houseprice_corr=houseprice_df.corr()\n",
    "houseprice_corr"
   ]
  },
  {
   "cell_type": "code",
   "execution_count": 19,
   "id": "aa44c44e",
   "metadata": {
    "execution": {
     "iopub.execute_input": "2022-11-10T23:32:54.881275Z",
     "iopub.status.busy": "2022-11-10T23:32:54.880835Z",
     "iopub.status.idle": "2022-11-10T23:32:55.856712Z",
     "shell.execute_reply": "2022-11-10T23:32:55.855742Z"
    },
    "papermill": {
     "duration": 0.9907,
     "end_time": "2022-11-10T23:32:55.859214",
     "exception": false,
     "start_time": "2022-11-10T23:32:54.868514",
     "status": "completed"
    },
    "tags": []
   },
   "outputs": [
    {
     "data": {
      "image/png": "[encoded data removed]",
      "text/plain": [
       "<Figure size 432x576 with 2 Axes>"
      ]
     },
     "metadata": {
      "needs_background": "light"
     },
     "output_type": "display_data"
    }
   ],
   "source": [
    "fig, ax=plt.subplots(figsize=(6,8))\n",
    "sns.heatmap(houseprice_corr,annot=True)\n",
    "plt.show()\n"
   ]
  },
  {
   "cell_type": "markdown",
   "id": "232c11cc",
   "metadata": {
    "papermill": {
     "duration": 0.012052,
     "end_time": "2022-11-10T23:32:55.884448",
     "exception": false,
     "start_time": "2022-11-10T23:32:55.872396",
     "status": "completed"
    },
    "tags": []
   },
   "source": [
    "# Build and Train the Model"
   ]
  },
  {
   "cell_type": "code",
   "execution_count": 20,
   "id": "b99eaf60",
   "metadata": {
    "execution": {
     "iopub.execute_input": "2022-11-10T23:32:55.911802Z",
     "iopub.status.busy": "2022-11-10T23:32:55.910683Z",
     "iopub.status.idle": "2022-11-10T23:32:55.915570Z",
     "shell.execute_reply": "2022-11-10T23:32:55.914703Z"
    },
    "papermill": {
     "duration": 0.021353,
     "end_time": "2022-11-10T23:32:55.918167",
     "exception": false,
     "start_time": "2022-11-10T23:32:55.896814",
     "status": "completed"
    },
    "tags": []
   },
   "outputs": [],
   "source": [
    "Y = houseprice_df['price']"
   ]
  },
  {
   "cell_type": "code",
   "execution_count": 21,
   "id": "5d064020",
   "metadata": {
    "execution": {
     "iopub.execute_input": "2022-11-10T23:32:55.946151Z",
     "iopub.status.busy": "2022-11-10T23:32:55.944600Z",
     "iopub.status.idle": "2022-11-10T23:32:55.952512Z",
     "shell.execute_reply": "2022-11-10T23:32:55.951475Z"
    },
    "papermill": {
     "duration": 0.024446,
     "end_time": "2022-11-10T23:32:55.955218",
     "exception": false,
     "start_time": "2022-11-10T23:32:55.930772",
     "status": "completed"
    },
    "tags": []
   },
   "outputs": [],
   "source": [
    "X = houseprice_df.drop('price', axis = 1)"
   ]
  },
  {
   "cell_type": "code",
   "execution_count": 22,
   "id": "0b0982ab",
   "metadata": {
    "execution": {
     "iopub.execute_input": "2022-11-10T23:32:55.983382Z",
     "iopub.status.busy": "2022-11-10T23:32:55.982096Z",
     "iopub.status.idle": "2022-11-10T23:32:55.995657Z",
     "shell.execute_reply": "2022-11-10T23:32:55.994373Z"
    },
    "papermill": {
     "duration": 0.030548,
     "end_time": "2022-11-10T23:32:55.998612",
     "exception": false,
     "start_time": "2022-11-10T23:32:55.968064",
     "status": "completed"
    },
    "tags": []
   },
   "outputs": [],
   "source": [
    "x_train, x_test, y_train, y_test = train_test_split(X, Y, test_size=0.4)"
   ]
  },
  {
   "cell_type": "code",
   "execution_count": 23,
   "id": "cb0478ce",
   "metadata": {
    "execution": {
     "iopub.execute_input": "2022-11-10T23:32:56.026310Z",
     "iopub.status.busy": "2022-11-10T23:32:56.025905Z",
     "iopub.status.idle": "2022-11-10T23:32:56.032739Z",
     "shell.execute_reply": "2022-11-10T23:32:56.031791Z"
    },
    "papermill": {
     "duration": 0.023376,
     "end_time": "2022-11-10T23:32:56.034946",
     "exception": false,
     "start_time": "2022-11-10T23:32:56.011570",
     "status": "completed"
    },
    "tags": []
   },
   "outputs": [
    {
     "data": {
      "text/plain": [
       "((12966, 15), (12966,))"
      ]
     },
     "execution_count": 23,
     "metadata": {},
     "output_type": "execute_result"
    }
   ],
   "source": [
    "x_train.shape , y_train.shape"
   ]
  },
  {
   "cell_type": "code",
   "execution_count": 24,
   "id": "947eafbe",
   "metadata": {
    "execution": {
     "iopub.execute_input": "2022-11-10T23:32:56.061880Z",
     "iopub.status.busy": "2022-11-10T23:32:56.060888Z",
     "iopub.status.idle": "2022-11-10T23:32:56.068606Z",
     "shell.execute_reply": "2022-11-10T23:32:56.067443Z"
    },
    "papermill": {
     "duration": 0.023296,
     "end_time": "2022-11-10T23:32:56.070755",
     "exception": false,
     "start_time": "2022-11-10T23:32:56.047459",
     "status": "completed"
    },
    "tags": []
   },
   "outputs": [
    {
     "data": {
      "text/plain": [
       "((8645, 15), (8645,))"
      ]
     },
     "execution_count": 24,
     "metadata": {},
     "output_type": "execute_result"
    }
   ],
   "source": [
    "x_test.shape , y_test.shape"
   ]
  },
  {
   "cell_type": "code",
   "execution_count": 25,
   "id": "e9a33055",
   "metadata": {
    "execution": {
     "iopub.execute_input": "2022-11-10T23:32:56.098864Z",
     "iopub.status.busy": "2022-11-10T23:32:56.097547Z",
     "iopub.status.idle": "2022-11-10T23:32:56.141690Z",
     "shell.execute_reply": "2022-11-10T23:32:56.140130Z"
    },
    "papermill": {
     "duration": 0.062195,
     "end_time": "2022-11-10T23:32:56.145873",
     "exception": false,
     "start_time": "2022-11-10T23:32:56.083678",
     "status": "completed"
    },
    "tags": []
   },
   "outputs": [
    {
     "data": {
      "text/plain": [
       "0.6441800571893719"
      ]
     },
     "execution_count": 25,
     "metadata": {},
     "output_type": "execute_result"
    }
   ],
   "source": [
    "reg= LinearRegression().fit(x_train,y_train)\n",
    "reg.score(x_test,y_test)"
   ]
  },
  {
   "cell_type": "markdown",
   "id": "e31bd0b1",
   "metadata": {
    "papermill": {
     "duration": 0.051616,
     "end_time": "2022-11-10T23:32:56.248337",
     "exception": false,
     "start_time": "2022-11-10T23:32:56.196721",
     "status": "completed"
    },
    "tags": []
   },
   "source": [
    "# Cross Validation"
   ]
  },
  {
   "cell_type": "code",
   "execution_count": 26,
   "id": "8a1e6abe",
   "metadata": {
    "execution": {
     "iopub.execute_input": "2022-11-10T23:32:56.280439Z",
     "iopub.status.busy": "2022-11-10T23:32:56.280047Z",
     "iopub.status.idle": "2022-11-10T23:32:56.285215Z",
     "shell.execute_reply": "2022-11-10T23:32:56.284050Z"
    },
    "papermill": {
     "duration": 0.021704,
     "end_time": "2022-11-10T23:32:56.287370",
     "exception": false,
     "start_time": "2022-11-10T23:32:56.265666",
     "status": "completed"
    },
    "tags": []
   },
   "outputs": [],
   "source": [
    "from sklearn.model_selection import cross_val_score"
   ]
  },
  {
   "cell_type": "code",
   "execution_count": 27,
   "id": "eed8d959",
   "metadata": {
    "execution": {
     "iopub.execute_input": "2022-11-10T23:32:56.315122Z",
     "iopub.status.busy": "2022-11-10T23:32:56.314340Z",
     "iopub.status.idle": "2022-11-10T23:32:56.604978Z",
     "shell.execute_reply": "2022-11-10T23:32:56.603120Z"
    },
    "papermill": {
     "duration": 0.309435,
     "end_time": "2022-11-10T23:32:56.609485",
     "exception": false,
     "start_time": "2022-11-10T23:32:56.300050",
     "status": "completed"
    },
    "tags": []
   },
   "outputs": [],
   "source": [
    "reg = LinearRegression()\n",
    "\n",
    "scores = cross_val_score(reg, X, Y, cv=5, scoring='r2')"
   ]
  },
  {
   "cell_type": "code",
   "execution_count": 28,
   "id": "9c0969de",
   "metadata": {
    "execution": {
     "iopub.execute_input": "2022-11-10T23:32:56.717035Z",
     "iopub.status.busy": "2022-11-10T23:32:56.716613Z",
     "iopub.status.idle": "2022-11-10T23:32:56.722945Z",
     "shell.execute_reply": "2022-11-10T23:32:56.722206Z"
    },
    "papermill": {
     "duration": 0.060599,
     "end_time": "2022-11-10T23:32:56.724925",
     "exception": false,
     "start_time": "2022-11-10T23:32:56.664326",
     "status": "completed"
    },
    "tags": []
   },
   "outputs": [
    {
     "data": {
      "text/plain": [
       "array([0.65605518, 0.65077556, 0.64342074, 0.65808578, 0.62575563])"
      ]
     },
     "execution_count": 28,
     "metadata": {},
     "output_type": "execute_result"
    }
   ],
   "source": [
    "scores"
   ]
  },
  {
   "cell_type": "code",
   "execution_count": null,
   "id": "cdbeb50b",
   "metadata": {
    "papermill": {
     "duration": 0.01247,
     "end_time": "2022-11-10T23:32:56.750223",
     "exception": false,
     "start_time": "2022-11-10T23:32:56.737753",
     "status": "completed"
    },
    "tags": []
   },
   "outputs": [],
   "source": []
  }
 ],
 "metadata": {
  "kernelspec": {
   "display_name": "Python 3",
   "language": "python",
   "name": "python3"
  },
  "language_info": {
   "codemirror_mode": {
    "name": "ipython",
    "version": 3
   },
   "file_extension": ".py",
   "mimetype": "text/x-python",
   "name": "python",
   "nbconvert_exporter": "python",
   "pygments_lexer": "ipython3",
   "version": "3.7.12"
  },
  "papermill": {
   "default_parameters": {},
   "duration": 16.770821,
   "end_time": "2022-11-10T23:32:57.586344",
   "environment_variables": {},
   "exception": null,
   "input_path": "__notebook__.ipynb",
   "output_path": "__notebook__.ipynb",
   "parameters": {},
   "start_time": "2022-11-10T23:32:40.815523",
   "version": "2.3.4"
  }
 },
 "nbformat": 4,
 "nbformat_minor": 5
}
